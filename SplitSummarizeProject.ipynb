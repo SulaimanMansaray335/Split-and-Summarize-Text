{
 "cells": [
  {
   "cell_type": "code",
   "execution_count": 1,
   "metadata": {},
   "outputs": [],
   "source": [
    "import os \n",
    "import streamlit as st\n",
    "from dotenv import load_dotenv, find_dotenv\n",
    "from langchain_openai import OpenAI\n",
    "from langchain_core.prompts import PromptTemplate\n",
    "from langchain_text_splitters import RecursiveCharacterTextSplitter\n",
    "from langchain.chains.summarize import load_summarize_chain\n",
    "import pandas as pd\n",
    "import io \n",
    "import chardet  \n",
    "from pypdf import PdfReader\n",
    "from langchain_core.documents import Document\n",
    "\n",
    "_ = load_dotenv(find_dotenv())\n",
    "openai_api_key = os.environ[\"OPENAI_API_KEY\"]   \n"
   ]
  },
  {
   "cell_type": "code",
   "execution_count": 2,
   "metadata": {},
   "outputs": [],
   "source": [
    "def load_LLM(openai_api_key):\n",
    "    llm = OpenAI(temperature = 0, openai_api_key=openai_api_key)\n",
    "    return llm\n"
   ]
  },
  {
   "cell_type": "code",
   "execution_count": null,
   "metadata": {},
   "outputs": [],
   "source": [
    "st.set_page_config(page_title=\"AI Long Text Summarizer\")\n",
    "st.header(\"AI Long Text Summarizer\")\n",
    "\n",
    "col1, col2 = st.columns(2) \n",
    "\n",
    "with col1:\n",
    "    st.markdown(\"ChatGPT cannot summarize long texts. Now you can do it with this app\")\n",
    "    \n",
    "with col2:\n",
    "    st.write(\"Contact Tariq Mansaray tariq.mansaray@gmail.com for your AI solutions\")\n",
    "    \n",
    "st.markdown(\"## Enter Your OpenAI API Key\")\n",
    "\n",
    "def get_openai_api_key():\n",
    "    input_text = st.text_input(label= \"OpenAI API Key\", placeholder = \"Ex: sk-2twmA8tfCb8un4...\", key = \"openai_api_key_input\", type = \"password\")\n",
    "    return input_text\n",
    "\n",
    "openai_api_key = get_openai_api_key()\n",
    "\n",
    "st.markdown(\"## Upload the text file you want to summarize\")\n",
    "\n",
    "uploaded_file = st.file_uploader(\"Choose a file\", type=[\"txt\", \"pdf\"])\n",
    "\n",
    "\n",
    "st.markdown(\"### Here is your summary\")\n",
    "\n",
    "if uploaded_file is not None:\n",
    "    bytes_data = uploaded_file.getvalue()\n",
    "    \n",
    "    stringio = StringIO(uploaded_file.getvalue().decode(\"utf-8\"))\n",
    "    \n",
    "    string_data = stringio.read()\n",
    "    \n",
    "    file_input = string_data\n",
    "    \n",
    "    if len(file_input.split(\" \")) > 20000:\n",
    "        st.write(\"Please insert OpenAI API Key. Instructions [here](https://help.openai.com/en/articles/4936850-where-do-i-find-my-secret-api-key)\",\n",
    "                 icon = \"⚠️\")\n",
    "        st.stop() \n",
    "        \n",
    "    text_splitter = RecursiveCharacterTextSplitter(\n",
    "        separators = [\"\\n\\n\", \"\\n\"],\n",
    "        chunk_size = 5000,\n",
    "        chunk_overlap = 350\n",
    "    )\n",
    "    \n",
    "    splitted_documents = text_splitter.split_documents([file_input])\n",
    "    \n",
    "    llm = load_LLM(openai_api_key = openai_api_key)\n",
    "    \n",
    "    summarize_chain = load_summarize_chain(\n",
    "        llm=llm,\n",
    "        chain_type= \"map_reduce\"\n",
    "    )\n",
    "    \n",
    "    summary_output = summarize_chain.run(splitted_documents) \n",
    "    \n",
    "    st.write(summary_output)"
   ]
  }
 ],
 "metadata": {
  "kernelspec": {
   "display_name": "Split and Summarize Project",
   "language": "python",
   "name": "streamlit-split-and-summarize"
  },
  "language_info": {
   "codemirror_mode": {
    "name": "ipython",
    "version": 3
   },
   "file_extension": ".py",
   "mimetype": "text/x-python",
   "name": "python",
   "nbconvert_exporter": "python",
   "pygments_lexer": "ipython3",
   "version": "3.11.4"
  }
 },
 "nbformat": 4,
 "nbformat_minor": 2
}
